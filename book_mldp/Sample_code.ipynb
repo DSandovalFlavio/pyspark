{
 "cells": [
  {
   "cell_type": "code",
   "execution_count": 3,
   "id": "60360e1a",
   "metadata": {},
   "outputs": [
    {
     "name": "stdout",
     "output_type": "stream",
     "text": [
      "['1', '2', '3', '4', '5', '6', '7', '8', '9', '0']\n",
      "(123) 456-7890\n",
      "['1', '2', '3', '4', '5', '6', '7', '8', '9', '0']\n",
      "(123) 456-7890\n",
      "['1', '2', '3', '4', '5', '6', '7', '8', '9', '0']\n",
      "(123) 456-7890\n",
      "['1', '1', '2', '3', '4', '5', '6', '7', '8', '9', '0']\n",
      "(123) 456-7890\n"
     ]
    }
   ],
   "source": [
    "import re \n",
    "phone_numbers = [\n",
    " \"(123) 456-7890\",\n",
    " \"1234567890\",\n",
    " \"123.456.7890\",\n",
    " \"+1 123 456-7890\"\n",
    "]\n",
    "new_numbers = []\n",
    "R = re.compile(r\"\\d\") \n",
    "for number in phone_numbers: \n",
    "    digits = R.findall(number)\n",
    "    print(digits)\n",
    "    area_code = \"\".join(digits[-10:-7]) \n",
    "    first_3 = \"\".join(digits[-7:-4])\n",
    "    last_4 = \"\".join(digits[-4:len(digits)])\n",
    "    pretty_format = \"({}) {}-{}\".format(area_code,first_3,last_4)\n",
    "    print(pretty_format)\n",
    "    new_numbers.append(pretty_format) \n"
   ]
  },
  {
   "cell_type": "code",
   "execution_count": 4,
   "id": "8d73ff9f",
   "metadata": {},
   "outputs": [],
   "source": [
    "import re\n",
    "class PhoneFormatter: \n",
    "\n",
    "    def __init__(self): \n",
    "        self.r = re.compile(r\"\\d\")\n",
    " \n",
    "    def pretty_format(self, phone_number): \n",
    "        phone_numbers = self.r.findall(phone_number)\n",
    "        area_code = \"\".join(phone_numbers[-10:-7]) \n",
    "        first_3 = \"\".join(phone_numbers[-7:-4])\n",
    "        last_4 = \"\".join(phone_numbers[-4:len(phone_numbers)])\n",
    "        return \"({}) {}-{}\".format(area_code, \n",
    "                                    first_3, \n",
    "                                    last_4) "
   ]
  },
  {
   "cell_type": "code",
   "execution_count": 5,
   "id": "f61cfd9a",
   "metadata": {},
   "outputs": [
    {
     "name": "stdout",
     "output_type": "stream",
     "text": [
      "['(123) 456-7890', '(123) 456-7890', '(123) 456-7890', '(123) 456-7890']\n"
     ]
    }
   ],
   "source": [
    "phone_numbers = [ \n",
    " \"(123) 456-7890\",\n",
    " \"1234567890\",\n",
    " \"123.456.7890\",\n",
    " \"+1 123 456-7890\"\n",
    "]\n",
    "P = PhoneFormatter () \n",
    "print(list(map(P.pretty_format, phone_numbers))) "
   ]
  },
  {
   "cell_type": "code",
   "execution_count": 6,
   "id": "ff83e524",
   "metadata": {},
   "outputs": [
    {
     "data": {
      "text/plain": [
       "8"
      ]
     },
     "execution_count": 6,
     "metadata": {},
     "output_type": "execute_result"
    }
   ],
   "source": [
    "import os\n",
    "os.cpu_count()"
   ]
  },
  {
   "cell_type": "code",
   "execution_count": null,
   "id": "7e51bc4b",
   "metadata": {},
   "outputs": [],
   "source": [
    "import json \n",
    "from urllib import request, parse\n",
    "\n",
    "def link_to_title(link): \n",
    "    return link[\"title\"]\n",
    "def clean_if_key(page,key): \n",
    "    if key in page.keys():\n",
    "        return map(link_to_title,page[key])\n",
    "    else: return []\n",
    "    \n",
    "def get_wiki_links(pageTitle): \n",
    "    safe_title = parse.quote(pageTitle) \n",
    "    url = f\"https://en.wikipedia.org/w/api.php?action=query&prop=links|linkshere&pllimit=500&lhlimit=500&titles={safe_title}&format=json&formatversion=2\"\n",
    "    page = request.urlopen(url).read()\n",
    "    j = json.loads(page) \n",
    "    jpage = j[\"query\"][\"pages\"][0]\n",
    "    inbound = clean_if_key(jpage,\"links\") \n",
    "    outbound = clean_if_key(jpage,\"linkshere\")\n",
    "    return {\"title\": pageTitle, \n",
    "            \"in-links\":list(inbound),\n",
    "            \"out-links\":list(outbound)}\n",
    "\n",
    "def flatten_network(page):\n",
    "    return page[\"in-links\"]+page[\"out-links\"]\n",
    "\n"
   ]
  }
 ],
 "metadata": {
  "kernelspec": {
   "display_name": "Python 3",
   "language": "python",
   "name": "python3"
  },
  "language_info": {
   "codemirror_mode": {
    "name": "ipython",
    "version": 3
   },
   "file_extension": ".py",
   "mimetype": "text/x-python",
   "name": "python",
   "nbconvert_exporter": "python",
   "pygments_lexer": "ipython3",
   "version": "3.9.6 (default, Oct 18 2022, 12:41:40) \n[Clang 14.0.0 (clang-1400.0.29.202)]"
  },
  "vscode": {
   "interpreter": {
    "hash": "31f2aee4e71d21fbe5cf8b01ff0e069b9275f58929596ceb00d14d90e3e16cd6"
   }
  }
 },
 "nbformat": 4,
 "nbformat_minor": 5
}
